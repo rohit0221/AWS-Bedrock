{
 "cells": [
  {
   "cell_type": "code",
   "execution_count": 1,
   "metadata": {},
   "outputs": [],
   "source": [
    "import boto3"
   ]
  },
  {
   "cell_type": "code",
   "execution_count": 2,
   "metadata": {},
   "outputs": [],
   "source": [
    "bedrock_client = boto3.client('bedrock-agent')"
   ]
  },
  {
   "cell_type": "code",
   "execution_count": 3,
   "metadata": {},
   "outputs": [],
   "source": [
    "knowledge_base_name = 'knowledge-base-ds-test'"
   ]
  },
  {
   "cell_type": "code",
   "execution_count": 4,
   "metadata": {},
   "outputs": [],
   "source": [
    "knowledge_bases = bedrock_client.list_knowledge_bases()"
   ]
  },
  {
   "cell_type": "code",
   "execution_count": 5,
   "metadata": {},
   "outputs": [
    {
     "data": {
      "text/plain": [
       "{'ResponseMetadata': {'RequestId': 'f1623d17-bbe1-4881-8235-f425c4d8d564',\n",
       "  'HTTPStatusCode': 200,\n",
       "  'HTTPHeaders': {'date': 'Tue, 14 May 2024 11:46:03 GMT',\n",
       "   'content-type': 'application/json',\n",
       "   'content-length': '558',\n",
       "   'connection': 'keep-alive',\n",
       "   'x-amzn-requestid': 'f1623d17-bbe1-4881-8235-f425c4d8d564',\n",
       "   'x-amz-apigw-id': 'XwlHXEXmoAMEk1w=',\n",
       "   'x-amzn-trace-id': 'Root=1-66434efb-5eabde973b9b30d57dbd7a6c'},\n",
       "  'RetryAttempts': 0},\n",
       " 'knowledgeBaseSummaries': [{'knowledgeBaseId': 'V3HXY2XMRA',\n",
       "   'name': 'knowledge-base-test',\n",
       "   'status': 'ACTIVE',\n",
       "   'updatedAt': datetime.datetime(2024, 5, 14, 10, 16, 35, 229023, tzinfo=tzutc())},\n",
       "  {'knowledgeBaseId': 'OMNDAYJNHH',\n",
       "   'name': 'company-results',\n",
       "   'status': 'ACTIVE',\n",
       "   'updatedAt': datetime.datetime(2024, 5, 10, 2, 41, 14, 812343, tzinfo=tzutc())},\n",
       "  {'knowledgeBaseId': 'KQYP0TZAFA',\n",
       "   'name': 'knowledge-base-company-finance-results',\n",
       "   'status': 'DELETE_UNSUCCESSFUL',\n",
       "   'updatedAt': datetime.datetime(2024, 5, 12, 3, 26, 37, 636850, tzinfo=tzutc())},\n",
       "  {'knowledgeBaseId': '5QCOID5GYC',\n",
       "   'name': 'knowledge-base-health',\n",
       "   'status': 'ACTIVE',\n",
       "   'updatedAt': datetime.datetime(2024, 5, 11, 9, 43, 38, 752777, tzinfo=tzutc())}]}"
      ]
     },
     "execution_count": 5,
     "metadata": {},
     "output_type": "execute_result"
    }
   ],
   "source": [
    "knowledge_bases"
   ]
  },
  {
   "cell_type": "code",
   "execution_count": 6,
   "metadata": {},
   "outputs": [],
   "source": [
    "response = bedrock_client.start_ingestion_job(\n",
    "    clientToken=\"bwebwrwth363ee75677hegeeherb3634y4htrthth4\",\n",
    "    dataSourceId=\"4JUFK1XOO4\",\n",
    "    description=\"test\",\n",
    "    knowledgeBaseId=\"V3HXY2XMRA\"\n",
    ")"
   ]
  },
  {
   "cell_type": "code",
   "execution_count": null,
   "metadata": {},
   "outputs": [],
   "source": []
  }
 ],
 "metadata": {
  "kernelspec": {
   "display_name": "Python 3",
   "language": "python",
   "name": "python3"
  },
  "language_info": {
   "codemirror_mode": {
    "name": "ipython",
    "version": 3
   },
   "file_extension": ".py",
   "mimetype": "text/x-python",
   "name": "python",
   "nbconvert_exporter": "python",
   "pygments_lexer": "ipython3",
   "version": "3.9.0"
  }
 },
 "nbformat": 4,
 "nbformat_minor": 2
}
