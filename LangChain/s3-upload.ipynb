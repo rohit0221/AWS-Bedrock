{
 "cells": [
  {
   "cell_type": "code",
   "execution_count": 14,
   "metadata": {},
   "outputs": [],
   "source": [
    "import boto3\n",
    "client = boto3.client('s3')"
   ]
  },
  {
   "cell_type": "code",
   "execution_count": 15,
   "metadata": {},
   "outputs": [],
   "source": [
    "response = client.list_buckets()"
   ]
  },
  {
   "cell_type": "code",
   "execution_count": 16,
   "metadata": {},
   "outputs": [],
   "source": [
    "bucket_name = 'knowledgebase-test-rohit'\n",
    "object_name = 'asian.pdf'"
   ]
  },
  {
   "cell_type": "code",
   "execution_count": 17,
   "metadata": {},
   "outputs": [],
   "source": [
    "response = client.list_objects_v2(\n",
    "    Bucket=bucket_name\n",
    ")"
   ]
  },
  {
   "cell_type": "code",
   "execution_count": 18,
   "metadata": {},
   "outputs": [
    {
     "data": {
      "text/plain": [
       "{'ResponseMetadata': {'RequestId': 'ZQTJ9ZP3V4JC9X91',\n",
       "  'HostId': 'OOT9NVhjSnYbZd0BcGHZVWq6g0L1DQYnep2agxjuA4QoeV+PowsU1iNGnOxdcxjaRT82CtSAeH4=',\n",
       "  'HTTPStatusCode': 200,\n",
       "  'HTTPHeaders': {'x-amz-id-2': 'OOT9NVhjSnYbZd0BcGHZVWq6g0L1DQYnep2agxjuA4QoeV+PowsU1iNGnOxdcxjaRT82CtSAeH4=',\n",
       "   'x-amz-request-id': 'ZQTJ9ZP3V4JC9X91',\n",
       "   'date': 'Tue, 14 May 2024 11:40:33 GMT',\n",
       "   'x-amz-server-side-encryption': 'AES256',\n",
       "   'etag': '\"d41d8cd98f00b204e9800998ecf8427e\"',\n",
       "   'server': 'AmazonS3',\n",
       "   'content-length': '0'},\n",
       "  'RetryAttempts': 0},\n",
       " 'ETag': '\"d41d8cd98f00b204e9800998ecf8427e\"',\n",
       " 'ServerSideEncryption': 'AES256'}"
      ]
     },
     "execution_count": 18,
     "metadata": {},
     "output_type": "execute_result"
    }
   ],
   "source": [
    "client.put_object(\n",
    "    Bucket=bucket_name,\n",
    "    Key=object_name,\n",
    ")"
   ]
  },
  {
   "cell_type": "code",
   "execution_count": null,
   "metadata": {},
   "outputs": [],
   "source": []
  },
  {
   "cell_type": "code",
   "execution_count": 19,
   "metadata": {},
   "outputs": [],
   "source": [
    "import boto3"
   ]
  },
  {
   "cell_type": "code",
   "execution_count": 20,
   "metadata": {},
   "outputs": [],
   "source": [
    "bedrock_client = boto3.client('bedrock-agent')"
   ]
  },
  {
   "cell_type": "code",
   "execution_count": 21,
   "metadata": {},
   "outputs": [],
   "source": [
    "knowledge_base_name = 'knowledge-base-ds-test'"
   ]
  },
  {
   "cell_type": "code",
   "execution_count": 22,
   "metadata": {},
   "outputs": [],
   "source": [
    "knowledge_bases = bedrock_client.list_knowledge_bases()"
   ]
  },
  {
   "cell_type": "code",
   "execution_count": 23,
   "metadata": {},
   "outputs": [
    {
     "data": {
      "text/plain": [
       "{'ResponseMetadata': {'RequestId': '8dd57f5c-8c83-4dd6-8aba-0489a47447ae',\n",
       "  'HTTPStatusCode': 200,\n",
       "  'HTTPHeaders': {'date': 'Tue, 14 May 2024 11:40:33 GMT',\n",
       "   'content-type': 'application/json',\n",
       "   'content-length': '558',\n",
       "   'connection': 'keep-alive',\n",
       "   'x-amzn-requestid': '8dd57f5c-8c83-4dd6-8aba-0489a47447ae',\n",
       "   'x-amz-apigw-id': 'XwkTwFUfIAMEKJQ=',\n",
       "   'x-amzn-trace-id': 'Root=1-66434db1-7fd93f651c0425872d99cf5e'},\n",
       "  'RetryAttempts': 0},\n",
       " 'knowledgeBaseSummaries': [{'knowledgeBaseId': 'V3HXY2XMRA',\n",
       "   'name': 'knowledge-base-test',\n",
       "   'status': 'ACTIVE',\n",
       "   'updatedAt': datetime.datetime(2024, 5, 14, 10, 16, 35, 229023, tzinfo=tzutc())},\n",
       "  {'knowledgeBaseId': 'OMNDAYJNHH',\n",
       "   'name': 'company-results',\n",
       "   'status': 'ACTIVE',\n",
       "   'updatedAt': datetime.datetime(2024, 5, 10, 2, 41, 14, 812343, tzinfo=tzutc())},\n",
       "  {'knowledgeBaseId': 'KQYP0TZAFA',\n",
       "   'name': 'knowledge-base-company-finance-results',\n",
       "   'status': 'DELETE_UNSUCCESSFUL',\n",
       "   'updatedAt': datetime.datetime(2024, 5, 12, 3, 26, 37, 636850, tzinfo=tzutc())},\n",
       "  {'knowledgeBaseId': '5QCOID5GYC',\n",
       "   'name': 'knowledge-base-health',\n",
       "   'status': 'ACTIVE',\n",
       "   'updatedAt': datetime.datetime(2024, 5, 11, 9, 43, 38, 752777, tzinfo=tzutc())}]}"
      ]
     },
     "execution_count": 23,
     "metadata": {},
     "output_type": "execute_result"
    }
   ],
   "source": [
    "knowledge_bases"
   ]
  },
  {
   "cell_type": "code",
   "execution_count": 24,
   "metadata": {},
   "outputs": [],
   "source": [
    "response = bedrock_client.start_ingestion_job(\n",
    "    clientToken=\"d7t2vftf8gf3fi3bf3o824n3f3li3rvoi\",\n",
    "    dataSourceId=\"4JUFK1XOO4\",\n",
    "    description=\"test\",\n",
    "    knowledgeBaseId=\"V3HXY2XMRA\"\n",
    ")"
   ]
  },
  {
   "cell_type": "code",
   "execution_count": null,
   "metadata": {},
   "outputs": [],
   "source": []
  }
 ],
 "metadata": {
  "kernelspec": {
   "display_name": "Python 3",
   "language": "python",
   "name": "python3"
  },
  "language_info": {
   "codemirror_mode": {
    "name": "ipython",
    "version": 3
   },
   "file_extension": ".py",
   "mimetype": "text/x-python",
   "name": "python",
   "nbconvert_exporter": "python",
   "pygments_lexer": "ipython3",
   "version": "3.9.0"
  }
 },
 "nbformat": 4,
 "nbformat_minor": 2
}
