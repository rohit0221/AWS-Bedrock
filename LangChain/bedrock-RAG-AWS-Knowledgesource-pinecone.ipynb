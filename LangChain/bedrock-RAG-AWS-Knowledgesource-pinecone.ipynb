{
 "cells": [
  {
   "cell_type": "code",
   "execution_count": 4,
   "metadata": {},
   "outputs": [
    {
     "data": {
      "text/plain": [
       "True"
      ]
     },
     "execution_count": 4,
     "metadata": {},
     "output_type": "execute_result"
    }
   ],
   "source": [
    "import os\n",
    "from dotenv import load_dotenv\n",
    "load_dotenv()"
   ]
  },
  {
   "cell_type": "code",
   "execution_count": 2,
   "metadata": {},
   "outputs": [],
   "source": [
    "from langchain_community.retrievers import AmazonKnowledgeBasesRetriever\n",
    "\n",
    "retriever = AmazonKnowledgeBasesRetriever(\n",
    "    knowledge_base_id=\"OMNDAYJNHH\",\n",
    "    retrieval_config={\"vectorSearchConfiguration\": {\"numberOfResults\": 4}},\n",
    ")"
   ]
  },
  {
   "cell_type": "code",
   "execution_count": 3,
   "metadata": {},
   "outputs": [
    {
     "data": {
      "text/plain": [
       "[Document(page_content='Total operating income $ 114,301 $ 119,437 $ 108,949    (1) Includes corporate marketing expenses, certain share-based compensation expenses, various nonrecurring charges, and  other separately managed general and administrative costs.   Apple Inc. | 2023 Form 10-K | 47        The U.S. and China were the only countries that accounted for more than 10% of the Company’s net sales in 2023, 2022 and  2021. Net sales for 2023, 2022 and 2021 and long-lived assets as of September\\xa030, 2023 and September\\xa024, 2022 were as  follows (in millions):   2023 2022 2021   Net sales:   U.S. $ 138,573 $ 147,859 $ 133,803    China (1)  72,559  74,200  68,366    Other countries  172,153  172,269  163,648    Total net sales $ 383,285 $ 394,328 $ 365,817    2023 2022   Long-lived assets:   U.S. $ 33,276 $ 31,119    China (1)  5,778  7,260    Other countries  4,661  3,738    Total long-lived assets $ 43,715 $ 42,117    (1) China includes Hong Kong and Taiwan.', metadata={'location': {'s3Location': {'uri': 's3://knowledge-base-rohit-rag/APPLE_10-K-Q4-2023-As-Filed.pdf'}, 'type': 'S3'}, 'score': 0.6041911840438843}),\n",
       " Document(page_content='The net sales  increase consisted of higher net sales of iPhone and Services, partially offset by lower net sales of Mac and iPad.   Apple Inc. | 2023 Form 10-K | 21        Products and Services Performance   The following table shows net sales by category for 2023, 2022 and 2021 (dollars in millions):   2023 Change 2022 Change 2021   Net sales by category:   iPhone (1) $ 200,583  (2) % $ 205,489  7 % $ 191,973    Mac (1)  29,357  (27) %  40,177  14 %  35,190    iPad (1)  28,300  (3) %  29,292  (8) %  31,862    Wearables, Home and Accessories (1)  39,845  (3) %  41,241  7 %  38,367    Services (2)  85,200  9 %  78,129  14 %  68,425    Total net sales $ 383,285  (3) % $ 394,328  8 % $ 365,817    (1) Products net sales include amortization of the deferred value of unspecified software upgrade rights, which are bundled in  the sales price of the respective product.   (2) Services net sales include amortization of the deferred value of services bundled in the sales price of certain products.', metadata={'location': {'s3Location': {'uri': 's3://knowledge-base-rohit-rag/APPLE_10-K-Q4-2023-As-Filed.pdf'}, 'type': 'S3'}, 'score': 0.5979344248771667}),\n",
       " Document(page_content='Provision for income taxes  16,741  19,300  14,527    Net income $ 96,995 $ 99,803 $ 94,680    Earnings per share:   Basic $ 6.16 $ 6.15 $ 5.67    Diluted $ 6.13 $ 6.11 $ 5.61    Shares used in computing earnings per share:   Basic  15,744,231  16,215,963  16,701,272    Diluted  15,812,547  16,325,819  16,864,919    See accompanying Notes to Consolidated Financial Statements.   Apple Inc. | 2023 Form 10-K | 28        Apple Inc.   CONSOLIDATED STATEMENTS OF COMPREHENSIVE INCOME (In millions)   Years ended   September 30, 2023   September 24, 2022   September 25, 2021   Net income $ 96,995 $ 99,803 $ 94,680    Other comprehensive income/(loss):   Change in foreign currency translation, net of tax  (765)  (1,511)  501    Change in unrealized gains/losses on derivative instruments, net of tax:   Change in fair value of derivative instruments  323  3,212  32    Adjustment for net (gains)/losses realized and included in net  income  (1,717)', metadata={'location': {'s3Location': {'uri': 's3://knowledge-base-rohit-rag/APPLE_10-K-Q4-2023-As-Filed.pdf'}, 'type': 'S3'}, 'score': 0.5957340002059937}),\n",
       " Document(page_content='Services   Services net sales increased 9% or $7.1 billion during 2023 compared to 2022 due to higher net sales across all lines of  business.   Apple Inc. | 2023 Form 10-K | 22        Gross Margin   Products and Services gross margin and gross margin percentage for 2023, 2022 and 2021 were as follows (dollars in millions):   2023 2022 2021   Gross margin:   Products $ 108,803 $ 114,728 $ 105,126    Services  60,345  56,054  47,710    Total gross margin $ 169,148 $ 170,782 $ 152,836    Gross margin percentage:   Products  36.5%  36.3%  35.3%    Services  70.8%  71.7%  69.7%    Total gross margin percentage  44.1%  43.3%  41.8%    Products Gross Margin   Products gross margin decreased during 2023 compared to 2022 due to the weakness in foreign currencies relative to the U.S.  dollar and lower Products volume, partially offset by cost savings and a different Products mix.   Products gross margin percentage increased during 2023 compared to 2022 due to cost savings and a different Products mix,  partially offset by the weakness in foreign currencies relative to the U.S. dollar and decreased leverage.', metadata={'location': {'s3Location': {'uri': 's3://knowledge-base-rohit-rag/APPLE_10-K-Q4-2023-As-Filed.pdf'}, 'type': 'S3'}, 'score': 0.5819668173789978})]"
      ]
     },
     "execution_count": 3,
     "metadata": {},
     "output_type": "execute_result"
    }
   ],
   "source": [
    "query = \"apple profit\"\n",
    "\n",
    "retriever.invoke(query)"
   ]
  },
  {
   "cell_type": "code",
   "execution_count": 6,
   "metadata": {},
   "outputs": [],
   "source": [
    "from langchain import hub\n",
    "from langchain_core.output_parsers import StrOutputParser\n",
    "from langchain_core.runnables import RunnablePassthrough\n",
    "from langchain_text_splitters import RecursiveCharacterTextSplitter"
   ]
  },
  {
   "cell_type": "code",
   "execution_count": 24,
   "metadata": {},
   "outputs": [],
   "source": [
    "from langchain_core.prompts import PromptTemplate\n",
    "\n",
    "template = \"\"\"Use the following pieces of context to answer the question at the end.\n",
    "If you don't know the answer, just say that you don't know, don't try to make up an answer.\n",
    "Use three sentences maximum and keep the answer as concise as possible.\n",
    "Always say \"thanks for asking!\" at the end of the answer.\n",
    "Give the answer in as detailed manner as possible.\n",
    "Also always give the source details that you used to generate the answer.\n",
    "Tell the exact document id and page number of the pdf.\n",
    "\n",
    "{context}\n",
    "\n",
    "Question: {question}\n",
    "\n",
    "Helpful Answer:\"\"\"\n",
    "custom_rag_prompt = PromptTemplate.from_template(template)"
   ]
  },
  {
   "cell_type": "code",
   "execution_count": 25,
   "metadata": {},
   "outputs": [],
   "source": [
    "def format_docs(docs):\n",
    "    return \"\\n\\n\".join(doc.page_content for doc in docs)"
   ]
  },
  {
   "cell_type": "code",
   "execution_count": 26,
   "metadata": {},
   "outputs": [],
   "source": [
    "from langchain_community.llms import Bedrock\n",
    "llm = Bedrock(model_id=\"meta.llama3-70b-instruct-v1:0\")"
   ]
  },
  {
   "cell_type": "code",
   "execution_count": 27,
   "metadata": {},
   "outputs": [],
   "source": [
    "rag_chain = (\n",
    "    {\"context\": retriever | format_docs, \"question\": RunnablePassthrough()}\n",
    "    | custom_rag_prompt\n",
    "    | llm\n",
    "    | StrOutputParser()\n",
    ")"
   ]
  },
  {
   "cell_type": "code",
   "execution_count": 29,
   "metadata": {},
   "outputs": [
    {
     "name": "stdout",
     "output_type": "stream",
     "text": [
      " \n",
      "Apple's total liabilities as of September 30, 2023, are $290,437 million, which includes current liabilities of $145,308 million and non-current liabilities of $145,129 million. The company's debt consists of commercial paper of $5,985 million, term debt of $9,822 million (current) and $95,281 million (non-current).\n",
      "\n",
      "Source: Apple Inc. 2023 Form 10-K, Page 30.\n",
      "\n",
      "Thanks for asking!"
     ]
    }
   ],
   "source": [
    "for chunk in rag_chain.stream(\"tell me about debt of apple.\"):\n",
    "    print(chunk, end=\"\", flush=True)"
   ]
  },
  {
   "cell_type": "code",
   "execution_count": null,
   "metadata": {},
   "outputs": [],
   "source": []
  }
 ],
 "metadata": {
  "kernelspec": {
   "display_name": "Python 3",
   "language": "python",
   "name": "python3"
  },
  "language_info": {
   "codemirror_mode": {
    "name": "ipython",
    "version": 3
   },
   "file_extension": ".py",
   "mimetype": "text/x-python",
   "name": "python",
   "nbconvert_exporter": "python",
   "pygments_lexer": "ipython3",
   "version": "3.9.0"
  }
 },
 "nbformat": 4,
 "nbformat_minor": 2
}
