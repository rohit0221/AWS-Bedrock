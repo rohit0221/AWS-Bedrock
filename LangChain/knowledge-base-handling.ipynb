{
 "cells": [
  {
   "cell_type": "code",
   "execution_count": 1,
   "metadata": {},
   "outputs": [],
   "source": [
    "import boto3"
   ]
  },
  {
   "cell_type": "code",
   "execution_count": 2,
   "metadata": {},
   "outputs": [],
   "source": [
    "bedrock_client = boto3.client('bedrock-agent')"
   ]
  },
  {
   "cell_type": "code",
   "execution_count": 3,
   "metadata": {},
   "outputs": [],
   "source": [
    "knowledge_base_name = 'knowledge-base-quick-start-lt9bk'"
   ]
  },
  {
   "cell_type": "code",
   "execution_count": 5,
   "metadata": {},
   "outputs": [],
   "source": [
    "knowledge_bases = bedrock_client.list_knowledge_bases()"
   ]
  },
  {
   "cell_type": "code",
   "execution_count": 6,
   "metadata": {},
   "outputs": [
    {
     "data": {
      "text/plain": [
       "{'ResponseMetadata': {'RequestId': '63c007d4-6719-47ea-b294-d26749df6e36',\n",
       "  'HTTPStatusCode': 200,\n",
       "  'HTTPHeaders': {'date': 'Tue, 14 May 2024 13:03:39 GMT',\n",
       "   'content-type': 'application/json',\n",
       "   'content-length': '571',\n",
       "   'connection': 'keep-alive',\n",
       "   'x-amzn-requestid': '63c007d4-6719-47ea-b294-d26749df6e36',\n",
       "   'x-amz-apigw-id': 'Xwwe0F5oIAMEnrA=',\n",
       "   'x-amzn-trace-id': 'Root=1-6643612b-1e6d3d84041d8a8254d356b2'},\n",
       "  'RetryAttempts': 0},\n",
       " 'knowledgeBaseSummaries': [{'knowledgeBaseId': 'ROEZ7VMG8N',\n",
       "   'name': 'knowledge-base-quick-start-lt9bk',\n",
       "   'status': 'ACTIVE',\n",
       "   'updatedAt': datetime.datetime(2024, 5, 14, 12, 29, 45, 265449, tzinfo=tzutc())},\n",
       "  {'knowledgeBaseId': 'OMNDAYJNHH',\n",
       "   'name': 'company-results',\n",
       "   'status': 'ACTIVE',\n",
       "   'updatedAt': datetime.datetime(2024, 5, 10, 2, 41, 14, 812343, tzinfo=tzutc())},\n",
       "  {'knowledgeBaseId': 'KQYP0TZAFA',\n",
       "   'name': 'knowledge-base-company-finance-results',\n",
       "   'status': 'DELETE_UNSUCCESSFUL',\n",
       "   'updatedAt': datetime.datetime(2024, 5, 12, 3, 26, 37, 636850, tzinfo=tzutc())},\n",
       "  {'knowledgeBaseId': '5QCOID5GYC',\n",
       "   'name': 'knowledge-base-health',\n",
       "   'status': 'ACTIVE',\n",
       "   'updatedAt': datetime.datetime(2024, 5, 11, 9, 43, 38, 752777, tzinfo=tzutc())}]}"
      ]
     },
     "execution_count": 6,
     "metadata": {},
     "output_type": "execute_result"
    }
   ],
   "source": [
    "knowledge_bases"
   ]
  },
  {
   "cell_type": "code",
   "execution_count": 7,
   "metadata": {},
   "outputs": [],
   "source": [
    "response = bedrock_client.start_ingestion_job(\n",
    "    clientToken=\"bwebwrwth363ee75677hegeeherb3634y4htrthth4\",\n",
    "    dataSourceId=\"BHS81ETUYU\",\n",
    "    description=\"test\",\n",
    "    knowledgeBaseId=\"ROEZ7VMG8N\"\n",
    ")"
   ]
  },
  {
   "cell_type": "code",
   "execution_count": null,
   "metadata": {},
   "outputs": [],
   "source": [
    "knowledge_base=\"knowledge-base-quick-start-lt9bk\""
   ]
  },
  {
   "cell_type": "code",
   "execution_count": 8,
   "metadata": {},
   "outputs": [],
   "source": [
    "response = bedrock_client.create_data_source(\n",
    "    clientToken='jhqkwdygwd7621vdbffhw8724dd522fgvgd18wdbnd8ydfffbdkbhdy9wedbjqedby2',\n",
    "    dataDeletionPolicy='RETAIN',\n",
    "    dataSourceConfiguration={\n",
    "        's3Configuration': {\n",
    "            'bucketArn': 'arn:aws:s3:::knowledgebase-test-rohit',\n",
    "            'bucketOwnerAccountId': '175573404892',\n",
    "        },\n",
    "        'type': 'S3'\n",
    "    },\n",
    "    description='test',\n",
    "    knowledgeBaseId='ROEZ7VMG8N',\n",
    "    name='knowledge-base-test',\n",
    "    vectorIngestionConfiguration={\n",
    "        'chunkingConfiguration': {\n",
    "            'chunkingStrategy': 'FIXED_SIZE',\n",
    "            'fixedSizeChunkingConfiguration': {\n",
    "                'maxTokens': 512,\n",
    "                'overlapPercentage': 20\n",
    "            }\n",
    "        }\n",
    "    }\n",
    ")"
   ]
  },
  {
   "cell_type": "code",
   "execution_count": null,
   "metadata": {},
   "outputs": [],
   "source": [
    "response"
   ]
  },
  {
   "cell_type": "code",
   "execution_count": 5,
   "metadata": {},
   "outputs": [
    {
     "ename": "NameError",
     "evalue": "name 'response' is not defined",
     "output_type": "error",
     "traceback": [
      "\u001b[1;31m---------------------------------------------------------------------------\u001b[0m",
      "\u001b[1;31mNameError\u001b[0m                                 Traceback (most recent call last)",
      "Cell \u001b[1;32mIn[5], line 1\u001b[0m\n\u001b[1;32m----> 1\u001b[0m dataSourceId \u001b[38;5;241m=\u001b[39m \u001b[43mresponse\u001b[49m[\u001b[38;5;124m'\u001b[39m\u001b[38;5;124mdataSource\u001b[39m\u001b[38;5;124m'\u001b[39m][\u001b[38;5;124m'\u001b[39m\u001b[38;5;124mdataSourceId\u001b[39m\u001b[38;5;124m'\u001b[39m]\n",
      "\u001b[1;31mNameError\u001b[0m: name 'response' is not defined"
     ]
    }
   ],
   "source": [
    "dataSourceId = response['dataSource']['dataSourceId']"
   ]
  },
  {
   "cell_type": "code",
   "execution_count": 10,
   "metadata": {},
   "outputs": [
    {
     "data": {
      "text/plain": [
       "'PTWW3VAMWH'"
      ]
     },
     "execution_count": 10,
     "metadata": {},
     "output_type": "execute_result"
    }
   ],
   "source": [
    "dataSourceId"
   ]
  },
  {
   "cell_type": "code",
   "execution_count": 6,
   "metadata": {},
   "outputs": [],
   "source": [
    "response = bedrock_client.start_ingestion_job(\n",
    "    clientToken=\"rrtyerter67dg6iighju6rn35j35jjh5445545y4ghhh\",\n",
    "    dataSourceId='PTWW3VAMWH',\n",
    "    description=\"test\",\n",
    "    knowledgeBaseId=\"ROEZ7VMG8N\"\n",
    ")"
   ]
  },
  {
   "cell_type": "code",
   "execution_count": 11,
   "metadata": {},
   "outputs": [
    {
     "ename": "ResourceNotFoundException",
     "evalue": "An error occurred (ResourceNotFoundException) when calling the StartIngestionJob operation: DataSource with id QSZIDQ3ZGQ is not found.",
     "output_type": "error",
     "traceback": [
      "\u001b[1;31m---------------------------------------------------------------------------\u001b[0m",
      "\u001b[1;31mResourceNotFoundException\u001b[0m                 Traceback (most recent call last)",
      "Cell \u001b[1;32mIn[11], line 1\u001b[0m\n\u001b[1;32m----> 1\u001b[0m response \u001b[38;5;241m=\u001b[39m \u001b[43mbedrock_client\u001b[49m\u001b[38;5;241;43m.\u001b[39;49m\u001b[43mstart_ingestion_job\u001b[49m\u001b[43m(\u001b[49m\n\u001b[0;32m      2\u001b[0m \u001b[43m    \u001b[49m\u001b[43mclientToken\u001b[49m\u001b[38;5;241;43m=\u001b[39;49m\u001b[38;5;124;43m\"\u001b[39;49m\u001b[38;5;124;43mrrtyerter67dg6ghju6rn35j35jjh5445545y4ghhh\u001b[39;49m\u001b[38;5;124;43m\"\u001b[39;49m\u001b[43m,\u001b[49m\n\u001b[0;32m      3\u001b[0m \u001b[43m    \u001b[49m\u001b[43mdataSourceId\u001b[49m\u001b[38;5;241;43m=\u001b[39;49m\u001b[38;5;124;43m\"\u001b[39;49m\u001b[38;5;124;43mQSZIDQ3ZGQ\u001b[39;49m\u001b[38;5;124;43m\"\u001b[39;49m\u001b[43m,\u001b[49m\n\u001b[0;32m      4\u001b[0m \u001b[43m    \u001b[49m\u001b[43mdescription\u001b[49m\u001b[38;5;241;43m=\u001b[39;49m\u001b[38;5;124;43m\"\u001b[39;49m\u001b[38;5;124;43mtest\u001b[39;49m\u001b[38;5;124;43m\"\u001b[39;49m\u001b[43m,\u001b[49m\n\u001b[0;32m      5\u001b[0m \u001b[43m    \u001b[49m\u001b[43mknowledgeBaseId\u001b[49m\u001b[38;5;241;43m=\u001b[39;49m\u001b[38;5;124;43m\"\u001b[39;49m\u001b[38;5;124;43mROEZ7VMG8N\u001b[39;49m\u001b[38;5;124;43m\"\u001b[39;49m\n\u001b[0;32m      6\u001b[0m \u001b[43m)\u001b[49m\n",
      "File \u001b[1;32mc:\\Code\\Github\\AWS-Bedrock\\venv\\lib\\site-packages\\botocore\\client.py:565\u001b[0m, in \u001b[0;36mClientCreator._create_api_method.<locals>._api_call\u001b[1;34m(self, *args, **kwargs)\u001b[0m\n\u001b[0;32m    561\u001b[0m     \u001b[38;5;28;01mraise\u001b[39;00m \u001b[38;5;167;01mTypeError\u001b[39;00m(\n\u001b[0;32m    562\u001b[0m         \u001b[38;5;124mf\u001b[39m\u001b[38;5;124m\"\u001b[39m\u001b[38;5;132;01m{\u001b[39;00mpy_operation_name\u001b[38;5;132;01m}\u001b[39;00m\u001b[38;5;124m() only accepts keyword arguments.\u001b[39m\u001b[38;5;124m\"\u001b[39m\n\u001b[0;32m    563\u001b[0m     )\n\u001b[0;32m    564\u001b[0m \u001b[38;5;66;03m# The \"self\" in this scope is referring to the BaseClient.\u001b[39;00m\n\u001b[1;32m--> 565\u001b[0m \u001b[38;5;28;01mreturn\u001b[39;00m \u001b[38;5;28;43mself\u001b[39;49m\u001b[38;5;241;43m.\u001b[39;49m\u001b[43m_make_api_call\u001b[49m\u001b[43m(\u001b[49m\u001b[43moperation_name\u001b[49m\u001b[43m,\u001b[49m\u001b[43m \u001b[49m\u001b[43mkwargs\u001b[49m\u001b[43m)\u001b[49m\n",
      "File \u001b[1;32mc:\\Code\\Github\\AWS-Bedrock\\venv\\lib\\site-packages\\botocore\\client.py:1021\u001b[0m, in \u001b[0;36mBaseClient._make_api_call\u001b[1;34m(self, operation_name, api_params)\u001b[0m\n\u001b[0;32m   1017\u001b[0m     error_code \u001b[38;5;241m=\u001b[39m error_info\u001b[38;5;241m.\u001b[39mget(\u001b[38;5;124m\"\u001b[39m\u001b[38;5;124mQueryErrorCode\u001b[39m\u001b[38;5;124m\"\u001b[39m) \u001b[38;5;129;01mor\u001b[39;00m error_info\u001b[38;5;241m.\u001b[39mget(\n\u001b[0;32m   1018\u001b[0m         \u001b[38;5;124m\"\u001b[39m\u001b[38;5;124mCode\u001b[39m\u001b[38;5;124m\"\u001b[39m\n\u001b[0;32m   1019\u001b[0m     )\n\u001b[0;32m   1020\u001b[0m     error_class \u001b[38;5;241m=\u001b[39m \u001b[38;5;28mself\u001b[39m\u001b[38;5;241m.\u001b[39mexceptions\u001b[38;5;241m.\u001b[39mfrom_code(error_code)\n\u001b[1;32m-> 1021\u001b[0m     \u001b[38;5;28;01mraise\u001b[39;00m error_class(parsed_response, operation_name)\n\u001b[0;32m   1022\u001b[0m \u001b[38;5;28;01melse\u001b[39;00m:\n\u001b[0;32m   1023\u001b[0m     \u001b[38;5;28;01mreturn\u001b[39;00m parsed_response\n",
      "\u001b[1;31mResourceNotFoundException\u001b[0m: An error occurred (ResourceNotFoundException) when calling the StartIngestionJob operation: DataSource with id QSZIDQ3ZGQ is not found."
     ]
    }
   ],
   "source": [
    "response = bedrock_client.start_ingestion_job(\n",
    "    clientToken=\"rrtyerter67dg6ghju6rn35j35jjh5445545y4ghhh\",\n",
    "    dataSourceId=\"QSZIDQ3ZGQ\",\n",
    "    description=\"test\",\n",
    "    knowledgeBaseId=\"ROEZ7VMG8N\"\n",
    ")"
   ]
  }
 ],
 "metadata": {
  "kernelspec": {
   "display_name": "Python 3",
   "language": "python",
   "name": "python3"
  },
  "language_info": {
   "codemirror_mode": {
    "name": "ipython",
    "version": 3
   },
   "file_extension": ".py",
   "mimetype": "text/x-python",
   "name": "python",
   "nbconvert_exporter": "python",
   "pygments_lexer": "ipython3",
   "version": "3.9.0"
  }
 },
 "nbformat": 4,
 "nbformat_minor": 2
}
