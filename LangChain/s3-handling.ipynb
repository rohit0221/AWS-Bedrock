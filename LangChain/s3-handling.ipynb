{
 "cells": [
  {
   "cell_type": "code",
   "execution_count": 7,
   "metadata": {},
   "outputs": [
    {
     "data": {
      "text/plain": [
       "True"
      ]
     },
     "execution_count": 7,
     "metadata": {},
     "output_type": "execute_result"
    }
   ],
   "source": [
    "import boto3\n",
    "client = boto3.client('s3')\n",
    "\n",
    "from dotenv import load_dotenv\n",
    "import os\n",
    "load_dotenv()"
   ]
  },
  {
   "cell_type": "code",
   "execution_count": 9,
   "metadata": {},
   "outputs": [],
   "source": [
    "knowledge_base = os.getenv(\"KNOWLEDGE_BASE_FINANCE\")"
   ]
  },
  {
   "cell_type": "code",
   "execution_count": 10,
   "metadata": {},
   "outputs": [
    {
     "data": {
      "text/plain": [
       "'5QCOID5GYC'"
      ]
     },
     "execution_count": 10,
     "metadata": {},
     "output_type": "execute_result"
    }
   ],
   "source": [
    "knowledge_base"
   ]
  },
  {
   "cell_type": "code",
   "execution_count": 2,
   "metadata": {},
   "outputs": [],
   "source": [
    "response = client.list_buckets()"
   ]
  },
  {
   "cell_type": "code",
   "execution_count": 5,
   "metadata": {},
   "outputs": [],
   "source": [
    "bucket_name = 'bedrock-bucket-health'\n",
    "object_name = 'Budget_Speech.pdf'"
   ]
  },
  {
   "cell_type": "code",
   "execution_count": 4,
   "metadata": {},
   "outputs": [],
   "source": [
    "response = client.list_objects_v2(\n",
    "    Bucket=bucket_name\n",
    ")"
   ]
  },
  {
   "cell_type": "code",
   "execution_count": 5,
   "metadata": {},
   "outputs": [
    {
     "data": {
      "text/plain": [
       "{'ResponseMetadata': {'RequestId': 'G2643YMWE10QXDTG',\n",
       "  'HostId': 'jNjzM3+mrZy8OMd+OXWMDLG7+VkxufMjWFcZhQ+f00Gx1neEWysSHwHxt9fYeFGYoZOQZc7i3wY=',\n",
       "  'HTTPStatusCode': 200,\n",
       "  'HTTPHeaders': {'x-amz-id-2': 'jNjzM3+mrZy8OMd+OXWMDLG7+VkxufMjWFcZhQ+f00Gx1neEWysSHwHxt9fYeFGYoZOQZc7i3wY=',\n",
       "   'x-amz-request-id': 'G2643YMWE10QXDTG',\n",
       "   'date': 'Sun, 26 May 2024 06:15:22 GMT',\n",
       "   'x-amz-bucket-region': 'us-east-1',\n",
       "   'content-type': 'application/xml',\n",
       "   'transfer-encoding': 'chunked',\n",
       "   'server': 'AmazonS3'},\n",
       "  'RetryAttempts': 0},\n",
       " 'IsTruncated': False,\n",
       " 'Name': 'bedrock-bucket-rag',\n",
       " 'Prefix': '',\n",
       " 'MaxKeys': 1000,\n",
       " 'EncodingType': 'url',\n",
       " 'KeyCount': 0}"
      ]
     },
     "execution_count": 5,
     "metadata": {},
     "output_type": "execute_result"
    }
   ],
   "source": [
    "response"
   ]
  },
  {
   "cell_type": "code",
   "execution_count": 3,
   "metadata": {},
   "outputs": [],
   "source": [
    "file_name='Budget_Speech.pdf'"
   ]
  },
  {
   "cell_type": "code",
   "execution_count": 4,
   "metadata": {},
   "outputs": [],
   "source": [
    "import os\n",
    "object_name = os.path.basename('Budget_Speech.pdf')"
   ]
  },
  {
   "cell_type": "code",
   "execution_count": 6,
   "metadata": {},
   "outputs": [],
   "source": [
    "response = client.upload_file(file_name, bucket_name, object_name)"
   ]
  },
  {
   "cell_type": "code",
   "execution_count": 10,
   "metadata": {},
   "outputs": [
    {
     "data": {
      "text/plain": [
       "'Budget_Speech.pdf'"
      ]
     },
     "execution_count": 10,
     "metadata": {},
     "output_type": "execute_result"
    }
   ],
   "source": [
    "file_name"
   ]
  },
  {
   "cell_type": "code",
   "execution_count": null,
   "metadata": {},
   "outputs": [],
   "source": [
    "response = client.delete_objects(\n",
    "    Bucket=bucket_name,\n",
    "    Delete={\n",
    "        'Objects': [\n",
    "            {\n",
    "                'Key': object_name\n",
    "            },\n",
    "        ],\n",
    "        'Quiet': False\n",
    "    },\n",
    "    ExpectedBucketOwner='175573404892'\n",
    ")"
   ]
  },
  {
   "cell_type": "code",
   "execution_count": null,
   "metadata": {},
   "outputs": [],
   "source": [
    "response = client.list_objects_v2(Bucket=bucket_name)"
   ]
  },
  {
   "cell_type": "code",
   "execution_count": null,
   "metadata": {},
   "outputs": [],
   "source": [
    "response"
   ]
  },
  {
   "cell_type": "code",
   "execution_count": null,
   "metadata": {},
   "outputs": [],
   "source": [
    "for obj in response['Contents']:\n",
    "    print(obj['Key'])"
   ]
  },
  {
   "cell_type": "code",
   "execution_count": null,
   "metadata": {},
   "outputs": [],
   "source": [
    "response = client.delete_objects(\n",
    "    Bucket=bucket_name,\n",
    "    Delete={\n",
    "        'Objects': [\n",
    "            {\n",
    "                'Key': 'string'\n",
    "            },\n",
    "        ],\n",
    "        'Quiet': True|False\n",
    "    },\n",
    "    RequestPayer='requester',\n",
    "    BypassGovernanceRetention=True|False,\n",
    "    ExpectedBucketOwner='string',\n",
    "    ChecksumAlgorithm='CRC32'|'CRC32C'|'SHA1'|'SHA256'\n",
    ")"
   ]
  },
  {
   "cell_type": "code",
   "execution_count": null,
   "metadata": {},
   "outputs": [],
   "source": []
  }
 ],
 "metadata": {
  "kernelspec": {
   "display_name": "Python 3",
   "language": "python",
   "name": "python3"
  },
  "language_info": {
   "codemirror_mode": {
    "name": "ipython",
    "version": 3
   },
   "file_extension": ".py",
   "mimetype": "text/x-python",
   "name": "python",
   "nbconvert_exporter": "python",
   "pygments_lexer": "ipython3",
   "version": "3.9.0"
  }
 },
 "nbformat": 4,
 "nbformat_minor": 2
}
