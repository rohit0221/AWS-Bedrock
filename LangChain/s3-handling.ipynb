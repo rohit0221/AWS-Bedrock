{
 "cells": [
  {
   "cell_type": "code",
   "execution_count": 3,
   "metadata": {},
   "outputs": [],
   "source": [
    "import boto3\n",
    "client = boto3.client('s3')"
   ]
  },
  {
   "cell_type": "code",
   "execution_count": null,
   "metadata": {},
   "outputs": [],
   "source": [
    "response = client.list_buckets()"
   ]
  },
  {
   "cell_type": "code",
   "execution_count": 2,
   "metadata": {},
   "outputs": [],
   "source": [
    "bucket_name = 'knowledgebase-test-rohit'\n",
    "object_name = 'Budget_Speech.pdf'"
   ]
  },
  {
   "cell_type": "code",
   "execution_count": 4,
   "metadata": {},
   "outputs": [],
   "source": [
    "response = client.list_objects_v2(\n",
    "    Bucket=bucket_name\n",
    ")"
   ]
  },
  {
   "cell_type": "code",
   "execution_count": 5,
   "metadata": {},
   "outputs": [
    {
     "data": {
      "text/plain": [
       "{'ResponseMetadata': {'RequestId': 'X726WYQNMCYRTZ2E',\n",
       "  'HostId': 'M+u575dU4vF/n95Fdvk21POJsszVInH5rkJYRD6mcBHRbtHfTSHIDyC2yZD2w8fq9UzWBDKLlIw=',\n",
       "  'HTTPStatusCode': 200,\n",
       "  'HTTPHeaders': {'x-amz-id-2': 'M+u575dU4vF/n95Fdvk21POJsszVInH5rkJYRD6mcBHRbtHfTSHIDyC2yZD2w8fq9UzWBDKLlIw=',\n",
       "   'x-amz-request-id': 'X726WYQNMCYRTZ2E',\n",
       "   'date': 'Tue, 14 May 2024 14:58:39 GMT',\n",
       "   'x-amz-bucket-region': 'us-east-1',\n",
       "   'content-type': 'application/xml',\n",
       "   'transfer-encoding': 'chunked',\n",
       "   'server': 'AmazonS3'},\n",
       "  'RetryAttempts': 0},\n",
       " 'IsTruncated': False,\n",
       " 'Contents': [{'Key': 'Budget_Speech.pdf',\n",
       "   'LastModified': datetime.datetime(2024, 5, 14, 13, 2, 57, tzinfo=tzutc()),\n",
       "   'ETag': '\"013c9ab7c991de2590722a949252fc73\"',\n",
       "   'Size': 472415,\n",
       "   'StorageClass': 'STANDARD'}],\n",
       " 'Name': 'knowledgebase-test-rohit',\n",
       " 'Prefix': '',\n",
       " 'MaxKeys': 1000,\n",
       " 'EncodingType': 'url',\n",
       " 'KeyCount': 1}"
      ]
     },
     "execution_count": 5,
     "metadata": {},
     "output_type": "execute_result"
    }
   ],
   "source": [
    "response"
   ]
  },
  {
   "cell_type": "code",
   "execution_count": 1,
   "metadata": {},
   "outputs": [],
   "source": [
    "bucket_name = 'knowledgebase-test-rohit'"
   ]
  },
  {
   "cell_type": "code",
   "execution_count": null,
   "metadata": {},
   "outputs": [],
   "source": [
    "file_name='Budget_Speech.pdf'"
   ]
  },
  {
   "cell_type": "code",
   "execution_count": null,
   "metadata": {},
   "outputs": [],
   "source": [
    "import os\n",
    "object_name = os.path.basename('Budget_Speech.pdf')"
   ]
  },
  {
   "cell_type": "code",
   "execution_count": null,
   "metadata": {},
   "outputs": [],
   "source": [
    "response = client.upload_file(file_name, bucket_name, object_name)"
   ]
  },
  {
   "cell_type": "code",
   "execution_count": null,
   "metadata": {},
   "outputs": [],
   "source": [
    "file_name"
   ]
  },
  {
   "cell_type": "code",
   "execution_count": 9,
   "metadata": {},
   "outputs": [],
   "source": [
    "response = client.delete_objects(\n",
    "    Bucket=bucket_name,\n",
    "    Delete={\n",
    "        'Objects': [\n",
    "            {\n",
    "                'Key': object_name\n",
    "            },\n",
    "        ],\n",
    "        'Quiet': False\n",
    "    },\n",
    "    ExpectedB ucketOwner='175573404892'\n",
    ")"
   ]
  },
  {
   "cell_type": "code",
   "execution_count": null,
   "metadata": {},
   "outputs": [],
   "source": [
    "response = client.list_objects_v2(Bucket=bucket_name)"
   ]
  },
  {
   "cell_type": "code",
   "execution_count": null,
   "metadata": {},
   "outputs": [],
   "source": [
    "response"
   ]
  },
  {
   "cell_type": "code",
   "execution_count": null,
   "metadata": {},
   "outputs": [],
   "source": [
    "for obj in response['Contents']:\n",
    "    print(obj['Key'])"
   ]
  },
  {
   "cell_type": "code",
   "execution_count": 8,
   "metadata": {},
   "outputs": [
    {
     "ename": "TypeError",
     "evalue": "unsupported operand type(s) for |: 'str' and 'str'",
     "output_type": "error",
     "traceback": [
      "\u001b[1;31m---------------------------------------------------------------------------\u001b[0m",
      "\u001b[1;31mTypeError\u001b[0m                                 Traceback (most recent call last)",
      "Cell \u001b[1;32mIn[8], line 14\u001b[0m\n\u001b[0;32m      1\u001b[0m response \u001b[38;5;241m=\u001b[39m client\u001b[38;5;241m.\u001b[39mdelete_objects(\n\u001b[0;32m      2\u001b[0m     Bucket\u001b[38;5;241m=\u001b[39mbucket_name,\n\u001b[0;32m      3\u001b[0m     Delete\u001b[38;5;241m=\u001b[39m{\n\u001b[0;32m      4\u001b[0m         \u001b[38;5;124m'\u001b[39m\u001b[38;5;124mObjects\u001b[39m\u001b[38;5;124m'\u001b[39m: [\n\u001b[0;32m      5\u001b[0m             {\n\u001b[0;32m      6\u001b[0m                 \u001b[38;5;124m'\u001b[39m\u001b[38;5;124mKey\u001b[39m\u001b[38;5;124m'\u001b[39m: \u001b[38;5;124m'\u001b[39m\u001b[38;5;124mstring\u001b[39m\u001b[38;5;124m'\u001b[39m\n\u001b[0;32m      7\u001b[0m             },\n\u001b[0;32m      8\u001b[0m         ],\n\u001b[0;32m      9\u001b[0m         \u001b[38;5;124m'\u001b[39m\u001b[38;5;124mQuiet\u001b[39m\u001b[38;5;124m'\u001b[39m: \u001b[38;5;28;01mTrue\u001b[39;00m\u001b[38;5;241m|\u001b[39m\u001b[38;5;28;01mFalse\u001b[39;00m\n\u001b[0;32m     10\u001b[0m     },\n\u001b[0;32m     11\u001b[0m     RequestPayer\u001b[38;5;241m=\u001b[39m\u001b[38;5;124m'\u001b[39m\u001b[38;5;124mrequester\u001b[39m\u001b[38;5;124m'\u001b[39m,\n\u001b[0;32m     12\u001b[0m     BypassGovernanceRetention\u001b[38;5;241m=\u001b[39m\u001b[38;5;28;01mTrue\u001b[39;00m\u001b[38;5;241m|\u001b[39m\u001b[38;5;28;01mFalse\u001b[39;00m,\n\u001b[0;32m     13\u001b[0m     ExpectedBucketOwner\u001b[38;5;241m=\u001b[39m\u001b[38;5;124m'\u001b[39m\u001b[38;5;124mstring\u001b[39m\u001b[38;5;124m'\u001b[39m,\n\u001b[1;32m---> 14\u001b[0m     ChecksumAlgorithm\u001b[38;5;241m=\u001b[39m\u001b[38;5;124;43m'\u001b[39;49m\u001b[38;5;124;43mCRC32\u001b[39;49m\u001b[38;5;124;43m'\u001b[39;49m\u001b[38;5;241;43m|\u001b[39;49m\u001b[38;5;124;43m'\u001b[39;49m\u001b[38;5;124;43mCRC32C\u001b[39;49m\u001b[38;5;124;43m'\u001b[39;49m\u001b[38;5;241m|\u001b[39m\u001b[38;5;124m'\u001b[39m\u001b[38;5;124mSHA1\u001b[39m\u001b[38;5;124m'\u001b[39m\u001b[38;5;241m|\u001b[39m\u001b[38;5;124m'\u001b[39m\u001b[38;5;124mSHA256\u001b[39m\u001b[38;5;124m'\u001b[39m\n\u001b[0;32m     15\u001b[0m )\n",
      "\u001b[1;31mTypeError\u001b[0m: unsupported operand type(s) for |: 'str' and 'str'"
     ]
    }
   ],
   "source": [
    "response = client.delete_objects(\n",
    "    Bucket=bucket_name,\n",
    "    Delete={\n",
    "        'Objects': [\n",
    "            {\n",
    "                'Key': 'string'\n",
    "            },\n",
    "        ],\n",
    "        'Quiet': True|False\n",
    "    },\n",
    "    RequestPayer='requester',\n",
    "    BypassGovernanceRetention=True|False,\n",
    "    ExpectedBucketOwner='string',\n",
    "    ChecksumAlgorithm='CRC32'|'CRC32C'|'SHA1'|'SHA256'\n",
    ")"
   ]
  },
  {
   "cell_type": "code",
   "execution_count": null,
   "metadata": {},
   "outputs": [],
   "source": []
  }
 ],
 "metadata": {
  "kernelspec": {
   "display_name": "Python 3",
   "language": "python",
   "name": "python3"
  },
  "language_info": {
   "codemirror_mode": {
    "name": "ipython",
    "version": 3
   },
   "file_extension": ".py",
   "mimetype": "text/x-python",
   "name": "python",
   "nbconvert_exporter": "python",
   "pygments_lexer": "ipython3",
   "version": "3.9.0"
  }
 },
 "nbformat": 4,
 "nbformat_minor": 2
}
